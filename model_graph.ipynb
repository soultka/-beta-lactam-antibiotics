{
 "cells": [
  {
   "cell_type": "code",
   "execution_count": 1,
   "metadata": {},
   "outputs": [
    {
     "name": "stderr",
     "output_type": "stream",
     "text": [
      "C:\\Users\\parkchangho\\Anaconda3\\lib\\site-packages\\h5py\\__init__.py:34: FutureWarning: Conversion of the second argument of issubdtype from `float` to `np.floating` is deprecated. In future, it will be treated as `np.float64 == np.dtype(float).type`.\n",
      "  from ._conv import register_converters as _register_converters\n"
     ]
    }
   ],
   "source": [
    "import tensorflow as tf\n",
    "import numpy as np\n",
    "import pandas as pd\n",
    "from sklearn.model_selection import train_test_split\n",
    "import matplotlib.pyplot as plt\n",
    "from datetime import datetime\n",
    "from random import randint"
   ]
  },
  {
   "cell_type": "code",
   "execution_count": 15,
   "metadata": {},
   "outputs": [],
   "source": [
    "# load / generate some toy datasets\n",
    "df = pd.read_csv('dataset/staphycoccus.txt', delimiter='\\t').dropna()\n",
    "\n",
    "columns = df.columns[1:-1]\n",
    "n_input = len(columns)\n",
    "n_classes = 1\n",
    "\n",
    "x_data = np.array(df[columns])\n",
    "x_data = x_data.astype(float)\n",
    "\n",
    "y_data = np.array(df[df.columns[-1]])\n",
    "y_data = y_data.astype(float)\n",
    "\n",
    "x_train, x_test, y_train, y_test = train_test_split(x_data, y_data, test_size=0.2)\n",
    "y_train = np.reshape(y_train, (-1, 1))\n",
    "y_test = np.reshape(y_test, (-1, 1))\n",
    "\n",
    "X = tf.placeholder(tf.float32, [None, n_input], name='X')\n",
    "Y = tf.placeholder(tf.float32, [None, n_classes], name='Y')\n",
    "\n",
    "def hiddenStr(n_hidden_1, n_hidden_2, n_hidden_3):\n",
    "    return '' + str(n_hidden_1) + '_' + str(n_hidden_2) + '_' + str(n_hidden_3)\n",
    "    \n",
    "def makeModel(layer):\n",
    "    n_hidden_1, n_hidden_2, n_hidden_3 = layer\n",
    "\n",
    "    with tf.name_scope('layer1'):\n",
    "        W1 = tf.Variable(tf.random_uniform([n_input, n_hidden_1], -1., 1.))\n",
    "        b1 = tf.Variable(tf.zeros([n_hidden_1]))\n",
    "        L1 = tf.nn.relu(tf.add(tf.matmul(X, W1), b1))\n",
    "\n",
    "    with tf.name_scope('layer2'):\n",
    "        W2 = tf.Variable(tf.random_uniform([n_hidden_1, n_hidden_2], -1., 1.))\n",
    "        b2 = tf.Variable(tf.zeros([n_hidden_2]))\n",
    "        L2 = tf.nn.relu(tf.add(tf.matmul(L1, W2), b2))\n",
    "\n",
    "    with tf.name_scope('layer3'):\n",
    "        W3 = tf.Variable(tf.random_uniform([n_hidden_2, n_hidden_3], -1., 1.))\n",
    "        b3 = tf.Variable(tf.zeros([n_hidden_3]))\n",
    "        L3 = tf.nn.relu(tf.add(tf.matmul(L2, W3), b3))\n",
    "\n",
    "    with tf.name_scope('output'):\n",
    "        W4 = tf.Variable(tf.random_uniform([n_hidden_3, n_classes], -1., 1.))\n",
    "        b4 = tf.Variable(tf.zeros([n_classes]))\n",
    "        model = tf.add(tf.matmul(L3, W4), b4)\n",
    "\n",
    "    with tf.name_scope('optimizer_' + hiddenStr(*layer)):\n",
    "        cost = tf.reduce_mean(tf.nn.sigmoid_cross_entropy_with_logits(labels=Y, logits=model))\n",
    "        optimizer = tf.train.AdamOptimizer(learning_rate=0.0001).minimize(cost)\n",
    "\n",
    "    with tf.name_scope('prediction_' + hiddenStr(*layer)):\n",
    "        predictions = tf.cast(tf.sigmoid(model) > 0.5, tf.float32)\n",
    "        is_equal = tf.equal(predictions, Y)\n",
    "        accuracy = tf.summary.scalar('accuracy', tf.reduce_mean(tf.cast(is_equal, tf.float32))*100)\n",
    "        \n",
    "    return optimizer, accuracy"
   ]
  },
  {
   "cell_type": "code",
   "execution_count": null,
   "metadata": {
    "scrolled": true
   },
   "outputs": [
    {
     "name": "stdout",
     "output_type": "stream",
     "text": [
      "261_142_24 Start!\n",
      "261_142_24 : 0.0%\n"
     ]
    }
   ],
   "source": [
    "times = 1\n",
    "epochs = 1000\n",
    "total_batch = 400\n",
    "batch_size = int(len(x_train) / total_batch)\n",
    "\n",
    "with tf.Session() as sess:\n",
    "    for i in range(times):\n",
    "        layer = (randint(1, 300), randint(1, 300), randint(1, 300))\n",
    "        print(hiddenStr(*layer) + ' Start!')\n",
    "        merged = tf.summary.merge_all()\n",
    "        #time = datetime.now().strftime(\"%Y%m%d-%H%M%S\")\n",
    "        train_writer = tf.summary.FileWriter('./logs/train', sess.graph)\n",
    "        test_writer = tf.summary.FileWriter('./logs/test', sess.graph)\n",
    "\n",
    "        optimizer, accuracy = makeModel(layer)\n",
    "        init = tf.global_variables_initializer()\n",
    "        sess.run(init)\n",
    "\n",
    "        for epoch in range(epochs):\n",
    "            for i in range(total_batch):\n",
    "                from_i = i*batch_size\n",
    "                to_i = (i+1)*batch_size\n",
    "                batch_xs = x_train[from_i:to_i]\n",
    "                batch_ys = y_train[from_i:to_i]\n",
    "                sess.run(optimizer, feed_dict={X: batch_xs, Y: batch_ys})\n",
    "            summary = sess.run(accuracy,  feed_dict={X: x_train, Y: y_train})\n",
    "            train_writer.add_summary(summary, epoch)\n",
    "            train_writer.flush()\n",
    "\n",
    "            summary = sess.run(accuracy,  feed_dict={X: x_test, Y: y_test})\n",
    "            test_writer.add_summary(summary, epoch)\n",
    "            test_writer.flush()\n",
    "            if epoch % 250 == 0:\n",
    "                print(hiddenStr(*layer) + ' : ' + str(epoch/50) + '%')\n",
    "\n",
    "        train_writer.close()\n",
    "        test_writer.close()\n",
    "        print(hiddenStr(*layer) + ' Finish.')"
   ]
  },
  {
   "cell_type": "code",
   "execution_count": null,
   "metadata": {
    "collapsed": true
   },
   "outputs": [],
   "source": []
  }
 ],
 "metadata": {
  "kernelspec": {
   "display_name": "Python 3",
   "language": "python",
   "name": "python3"
  },
  "language_info": {
   "codemirror_mode": {
    "name": "ipython",
    "version": 3
   },
   "file_extension": ".py",
   "mimetype": "text/x-python",
   "name": "python",
   "nbconvert_exporter": "python",
   "pygments_lexer": "ipython3",
   "version": "3.6.3"
  }
 },
 "nbformat": 4,
 "nbformat_minor": 2
}
